{
 "cells": [
  {
   "cell_type": "markdown",
   "id": "3bbf59a6",
   "metadata": {},
   "source": [
    "Shortcut"
   ]
  },
  {
   "cell_type": "code",
   "execution_count": 1,
   "id": "405c6778",
   "metadata": {},
   "outputs": [],
   "source": [
    "def a(round=4):\n",
    "    return datasets.tail().round(round)"
   ]
  },
  {
   "cell_type": "markdown",
   "id": "b8d40d48",
   "metadata": {},
   "source": [
    "Initialize Library"
   ]
  },
  {
   "cell_type": "code",
   "execution_count": 2,
   "id": "87a0e0d7",
   "metadata": {},
   "outputs": [],
   "source": [
    "import numpy as np\n",
    "import pandas as pd\n",
    "import matplotlib.pyplot as plt\n",
    "from yahoofinancials import YahooFinancials as yf\n",
    "from math import ceil, floor\n",
    "from sklearn.preprocessing import StandardScaler\n",
    "from sklearn.preprocessing import MinMaxScaler\n",
    "from sklearn.pipeline import Pipeline\n",
    "from sklearn.compose import ColumnTransformer\n",
    "from sklearn.linear_model import SGDRegressor\n",
    "from sklearn.metrics import mean_squared_error"
   ]
  },
  {
   "cell_type": "markdown",
   "id": "4e4b89ee",
   "metadata": {},
   "source": [
    "Import Datasets From Yahoo Finance"
   ]
  },
  {
   "cell_type": "code",
   "execution_count": 3,
   "id": "0ffec0bd",
   "metadata": {},
   "outputs": [],
   "source": [
    "TICKER_NAME = 'SPY'\n",
    "ticker = yf(TICKER_NAME)\n",
    "raw_data = ticker.get_historical_price_data(start_date='1993-01-29', \n",
    "                                        end_date='2023-07-20', \n",
    "                                        time_interval='daily')\n",
    "datasets = pd.DataFrame(raw_data[TICKER_NAME]['prices'])\n",
    "datasets.drop('date', axis=1, inplace=True)\n",
    "datasets.drop('adjclose', axis=1, inplace=True)\n",
    "datasets.rename(columns={'formatted_date': 'date'}, inplace=True)\n",
    "datasets['percent_change'] = datasets['close'].pct_change() * 100"
   ]
  },
  {
   "cell_type": "markdown",
   "id": "5875bfb5",
   "metadata": {},
   "source": [
    "Bollinger Bands Data"
   ]
  },
  {
   "cell_type": "code",
   "execution_count": 4,
   "id": "2c8888f9",
   "metadata": {},
   "outputs": [],
   "source": [
    "BB_LENGTH = 20\n",
    "BB_SOURCE = 'close'\n",
    "BB_STDDEV = 2\n",
    "\n",
    "m_avg = datasets[BB_SOURCE].rolling(window=BB_LENGTH).mean()\n",
    "m_std = datasets[BB_SOURCE].rolling(window=BB_LENGTH).std(ddof=0)\n",
    "datasets['BB_upper'] = m_avg + BB_STDDEV * m_std\n",
    "datasets['BB_lower'] = m_avg - BB_STDDEV * m_std\n",
    "datasets['BB_distance_in_stdev'] = (datasets[BB_SOURCE]-m_avg) / m_std"
   ]
  },
  {
   "cell_type": "markdown",
   "id": "825a2101",
   "metadata": {},
   "source": [
    "RSI Data"
   ]
  },
  {
   "cell_type": "code",
   "execution_count": 5,
   "id": "3bee4de8",
   "metadata": {},
   "outputs": [],
   "source": [
    "RSI_LENGTH = 14\n",
    "RSI_SOURCE = 'close'\n",
    "\n",
    "delta = datasets[RSI_SOURCE].diff()\n",
    "\n",
    "up = delta.copy()\n",
    "up[up < 0] = 0\n",
    "up = pd.Series.ewm(up, alpha=1/RSI_LENGTH).mean()\n",
    "\n",
    "down = delta.copy()\n",
    "down[down > 0] = 0\n",
    "down *= -1\n",
    "down = pd.Series.ewm(down, alpha=1/RSI_LENGTH).mean()\n",
    "\n",
    "datasets['RSI'] = np.where(up == 0, 0, np.where(down == 0, 100, 100 - (100 / (1 + up / down))))\n",
    "datasets['RSI_MA'] = datasets['RSI'].rolling(window=RSI_LENGTH).mean()\n",
    "datasets['RSI_hist'] = pd.DataFrame(datasets['RSI'] - datasets['RSI_MA'])"
   ]
  },
  {
   "cell_type": "markdown",
   "id": "eed641f5",
   "metadata": {},
   "source": [
    "MACD Data"
   ]
  },
  {
   "cell_type": "code",
   "execution_count": 6,
   "id": "574c0f32",
   "metadata": {
    "scrolled": true
   },
   "outputs": [],
   "source": [
    "MACD_SOURCE = 'close'\n",
    "MACD_SLOW = 26\n",
    "MACD_FAST = 12\n",
    "MACD_SMOOTH = 9\n",
    "\n",
    "exp1 = datasets[MACD_SOURCE].ewm(span=MACD_FAST, adjust=False).mean()\n",
    "exp2 = datasets[MACD_SOURCE].ewm(span=MACD_SLOW, adjust = False).mean()\n",
    "datasets['MACD'] = pd.DataFrame(exp1 - exp2)\n",
    "datasets['MACD_signal'] = pd.DataFrame(datasets['MACD'].ewm(span=MACD_SMOOTH, adjust = False).mean())\n",
    "datasets['MACD_hist'] = pd.DataFrame(datasets['MACD'] - datasets['MACD_signal'])"
   ]
  },
  {
   "cell_type": "markdown",
   "id": "da8c9ae7",
   "metadata": {},
   "source": [
    "Remove Null Value"
   ]
  },
  {
   "cell_type": "code",
   "execution_count": 7,
   "id": "25fe5706",
   "metadata": {},
   "outputs": [],
   "source": [
    "datasets.dropna(axis=0, inplace=True)\n",
    "datasets.reset_index(drop=True, inplace=True)"
   ]
  },
  {
   "cell_type": "markdown",
   "id": "a1870b3c",
   "metadata": {},
   "source": [
    "Create Data For Machine Learning"
   ]
  },
  {
   "cell_type": "code",
   "execution_count": 10,
   "id": "e8c33c77",
   "metadata": {},
   "outputs": [],
   "source": [
    "N_TRADING_WINDOWS = 262\n",
    "N_DAYS_FUTURE = 21\n",
    "datesets_mod = np.empty([0, N_TRADING_WINDOWS * 12 + 1])\n",
    "\n",
    "for start in range(0, len(datasets)):\n",
    "    end = start + N_TRADING_WINDOWS\n",
    "    current_index = end - 1\n",
    "    \n",
    "    data_temp_1 = datasets['close'][start:end].to_numpy()\n",
    "    data_temp_2 = datasets['percent_change'][start:end].to_numpy()\n",
    "    data_temp_3 = datasets['BB_upper'][start:end].to_numpy()\n",
    "    data_temp_4 = datasets['BB_lower'][start:end].to_numpy()\n",
    "    data_temp_5 = datasets['BB_distance_in_stdev'][start:end].to_numpy()\n",
    "    data_temp_6 = datasets['RSI'][start:end].to_numpy()\n",
    "    data_temp_7 = datasets['RSI_MA'][start:end].to_numpy()\n",
    "    data_temp_8 = datasets['RSI_hist'][start:end].to_numpy()\n",
    "    data_temp_9 = datasets['MACD'][start:end].to_numpy()\n",
    "    data_temp_10 = datasets['MACD_signal'][start:end].to_numpy()\n",
    "    data_temp_11 = datasets['MACD_hist'][start:end].to_numpy()\n",
    "    data_temp_12 = datasets['volume'][start:end].to_numpy()\n",
    "    data_temp_label = datasets['close'][current_index + N_DAYS_FUTURE] - datasets['close'][current_index]\n",
    "    data_temp = np.hstack((data_temp_1, data_temp_2, data_temp_3, data_temp_4, data_temp_5, data_temp_6, data_temp_7, data_temp_8, data_temp_9, data_temp_10, data_temp_11, data_temp_12, data_temp_label))\n",
    "    datesets_mod = np.vstack((datesets_mod, data_temp))\n",
    "    if end + N_DAYS_FUTURE  == len(datasets): break"
   ]
  },
  {
   "cell_type": "code",
   "execution_count": 11,
   "id": "32721385-9618-43de-8768-5bb1e2f143fe",
   "metadata": {},
   "outputs": [
    {
     "data": {
      "text/plain": [
       "7653"
      ]
     },
     "execution_count": 11,
     "metadata": {},
     "output_type": "execute_result"
    }
   ],
   "source": [
    "len(datasets)"
   ]
  },
  {
   "cell_type": "markdown",
   "id": "2234f65e",
   "metadata": {},
   "source": [
    "Split The Data"
   ]
  },
  {
   "cell_type": "code",
   "execution_count": 18,
   "id": "f600202e",
   "metadata": {},
   "outputs": [],
   "source": [
    "split_loc = ceil(len(datesets_mod) * 0.8)\n",
    "X_train, X_test = datesets_mod[:split_loc], datesets_mod[split_loc:]\n",
    "X_train, y_train = X_train[:, :-1] , X_train[:, -1] > 0\n",
    "X_test, y_test = X_test[:, :-1] , X_test[:, -1] > 0"
   ]
  },
  {
   "cell_type": "markdown",
   "id": "5e39cc55",
   "metadata": {},
   "source": [
    "Pre-Processing"
   ]
  },
  {
   "cell_type": "code",
   "execution_count": 19,
   "id": "336101b0",
   "metadata": {},
   "outputs": [],
   "source": [
    "MinMaxAttribute = [1, 2, 3, 5, 6, 8, 9, 11, 12]\n",
    "StandardAttribute = [5, 8, 11]\n",
    "MinMaxAttribute = [(attr-1)*21 + i - 1 for attr in MinMaxAttribute for i in range (1,22)]\n",
    "StandardAttribute = [(attr-1)*21 + i - 1 for attr in StandardAttribute for i in range (1,22)]\n",
    "\n",
    "preprocessing = ColumnTransformer([\n",
    "    (\"num1\", StandardScaler(), MinMaxAttribute),\n",
    "    (\"num2\", StandardScaler(), StandardAttribute),\n",
    "], remainder='passthrough')"
   ]
  },
  {
   "cell_type": "code",
   "execution_count": 20,
   "id": "7e9c5330",
   "metadata": {},
   "outputs": [],
   "source": [
    "X_train_prepared = preprocessing.fit_transform(X_train)"
   ]
  },
  {
   "cell_type": "code",
   "execution_count": 21,
   "id": "8e54329a",
   "metadata": {},
   "outputs": [
    {
     "data": {
      "text/plain": [
       "3207"
      ]
     },
     "execution_count": 21,
     "metadata": {},
     "output_type": "execute_result"
    }
   ],
   "source": [
    "len(X_train_prepared[0])"
   ]
  },
  {
   "cell_type": "markdown",
   "id": "81481a15-0faa-4b3c-847d-d88227e6a500",
   "metadata": {
    "tags": []
   },
   "source": [
    "SVM Model"
   ]
  },
  {
   "cell_type": "code",
   "execution_count": 34,
   "id": "e19302a3-36bb-4aba-8bf5-7da5517968fc",
   "metadata": {},
   "outputs": [],
   "source": [
    "from sklearn.svm import SVC\n",
    "from sklearn.model_selection import cross_val_predict\n",
    "\n",
    "rbf_svc = SVC(kernel=\"rbf\", gamma=5, C=100)\n",
    "y_predict = cross_val_predict(rbf_svc, X_train_prepared, y_train, cv=2)"
   ]
  },
  {
   "cell_type": "code",
   "execution_count": 35,
   "id": "6a54fac2-98dd-459c-a056-ab0dd5c2502f",
   "metadata": {},
   "outputs": [
    {
     "data": {
      "text/plain": [
       "array([ True,  True,  True, ...,  True,  True,  True])"
      ]
     },
     "execution_count": 35,
     "metadata": {},
     "output_type": "execute_result"
    }
   ],
   "source": [
    "y_predict"
   ]
  },
  {
   "cell_type": "code",
   "execution_count": 36,
   "id": "96754072-c570-49ab-9dd3-df37d6d6ec5b",
   "metadata": {},
   "outputs": [
    {
     "name": "stdout",
     "output_type": "stream",
     "text": [
      "[[   0 2202]\n",
      " [   0 3695]]\n",
      "62.65897914193658\n",
      "100.0\n"
     ]
    }
   ],
   "source": [
    "from sklearn.metrics import mean_squared_error\n",
    "from sklearn.metrics import confusion_matrix\n",
    "\n",
    "cm = confusion_matrix(y_train, y_predict)\n",
    "print(cm)\n",
    "print(cm[1,1]/(cm[1,1]+cm[0,1])*100)\n",
    "print(cm[1,1]/(cm[1,1]+cm[1,0])*100)"
   ]
  },
  {
   "cell_type": "code",
   "execution_count": null,
   "id": "2faabf26-1d4c-4a54-ba4a-4e75b996fd5d",
   "metadata": {},
   "outputs": [],
   "source": []
  },
  {
   "cell_type": "code",
   "execution_count": null,
   "id": "d1a3bcc9-62fa-46ce-b40a-ba6cc63c7d13",
   "metadata": {},
   "outputs": [],
   "source": []
  },
  {
   "cell_type": "markdown",
   "id": "a4971f2b",
   "metadata": {},
   "source": [
    "Model"
   ]
  },
  {
   "cell_type": "code",
   "execution_count": 13,
   "id": "2320168b",
   "metadata": {},
   "outputs": [],
   "source": [
    "from sklearn.linear_model import SGDClassifier\n",
    "from sklearn.metrics import mean_squared_error\n",
    "from sklearn.model_selection import cross_val_predict\n",
    "from sklearn.ensemble import RandomForestClassifier\n",
    "from sklearn.linear_model import LinearRegression\n",
    "\n",
    "sgd_clf = SGDClassifier(max_iter=1000, tol=1e-3, penalty='l1', eta0=0, random_state=42, early_stopping=False)\n",
    "y_scores = cross_val_predict(sgd_clf, X_train_prepared, y_train, cv=3, method='decision_function')"
   ]
  },
  {
   "cell_type": "code",
   "execution_count": 14,
   "id": "44f480de",
   "metadata": {},
   "outputs": [],
   "source": [
    "from sklearn.metrics import precision_recall_curve\n",
    "\n",
    "precisions, recalls, thresholds = precision_recall_curve(y_train, y_scores)"
   ]
  },
  {
   "cell_type": "code",
   "execution_count": 15,
   "id": "e0109241",
   "metadata": {},
   "outputs": [
    {
     "ename": "NameError",
     "evalue": "name 'confusion_matrix' is not defined",
     "output_type": "error",
     "traceback": [
      "\u001b[1;31m---------------------------------------------------------------------------\u001b[0m",
      "\u001b[1;31mNameError\u001b[0m                                 Traceback (most recent call last)",
      "Input \u001b[1;32mIn [15]\u001b[0m, in \u001b[0;36m<cell line: 1>\u001b[1;34m()\u001b[0m\n\u001b[1;32m----> 1\u001b[0m cm \u001b[38;5;241m=\u001b[39m \u001b[43mconfusion_matrix\u001b[49m(y_train, y_scores \u001b[38;5;241m>\u001b[39m \u001b[38;5;241m0\u001b[39m)\n\u001b[0;32m      2\u001b[0m \u001b[38;5;28mprint\u001b[39m(cm)\n\u001b[0;32m      3\u001b[0m \u001b[38;5;28mprint\u001b[39m(cm[\u001b[38;5;241m1\u001b[39m,\u001b[38;5;241m1\u001b[39m]\u001b[38;5;241m/\u001b[39m(cm[\u001b[38;5;241m1\u001b[39m,\u001b[38;5;241m1\u001b[39m]\u001b[38;5;241m+\u001b[39mcm[\u001b[38;5;241m0\u001b[39m,\u001b[38;5;241m1\u001b[39m])\u001b[38;5;241m*\u001b[39m\u001b[38;5;241m100\u001b[39m)\n",
      "\u001b[1;31mNameError\u001b[0m: name 'confusion_matrix' is not defined"
     ]
    }
   ],
   "source": [
    "cm = confusion_matrix(y_train, y_scores > 0)\n",
    "print(cm)\n",
    "print(cm[1,1]/(cm[1,1]+cm[0,1])*100)\n",
    "print(cm[1,1]/(cm[1,1]+cm[1,0])*100)"
   ]
  },
  {
   "cell_type": "code",
   "execution_count": 16,
   "id": "99b8e0ee",
   "metadata": {},
   "outputs": [
    {
     "data": {
      "image/png": "[encoded data removed]",
      "text/plain": [
       "<Figure size 576x288 with 1 Axes>"
      ]
     },
     "metadata": {
      "needs_background": "light"
     },
     "output_type": "display_data"
    }
   ],
   "source": [
    "plt.figure(figsize=(8, 4))  # extra code – it's not needed, just formatting\n",
    "plt.plot(thresholds, precisions[:-1], \"b--\", label=\"Precision\", linewidth=2)\n",
    "plt.plot(thresholds, recalls[:-1], \"g-\", label=\"Recall\", linewidth=2)\n",
    "\n",
    "plt.axis([floor(thresholds[0]), ceil(thresholds[-1]), 0, 1])\n",
    "plt.grid()\n",
    "plt.xlabel(\"Threshold\")\n",
    "plt.legend(loc=\"center right\")\n",
    "\n",
    "plt.show()"
   ]
  },
  {
   "cell_type": "markdown",
   "id": "00d8b518",
   "metadata": {},
   "source": [
    "Separator"
   ]
  },
  {
   "cell_type": "code",
   "execution_count": null,
   "id": "ffa1ecbc",
   "metadata": {},
   "outputs": [],
   "source": [
    "from sklearn.ensemble import RandomForestClassifier\n",
    "\n",
    "forest_clf = RandomForestClassifier(random_state=42)\n",
    "y_probas_forest = cross_val_predict(forest_clf, X_train_prepared, y_train, cv=3, method=\"predict_proba\")\n",
    "\n",
    "y_scores_forest = y_probas_forest[:, 1]\n",
    "precisions_forest, recalls_forest, thresholds_forest = precision_recall_curve(y_train, y_scores_forest)"
   ]
  },
  {
   "cell_type": "code",
   "execution_count": null,
   "id": "73c8f292",
   "metadata": {},
   "outputs": [],
   "source": [
    "plt.figure(figsize=(8, 4))  # extra code – it's not needed, just formatting\n",
    "plt.plot(thresholds_forest, precisions_forest[:-1], \"b--\", label=\"Precision\", linewidth=2)\n",
    "plt.plot(thresholds_forest, recalls_forest[:-1], \"g-\", label=\"Recall\", linewidth=2)\n",
    "\n",
    "plt.axis([0, 1, 0, 1])\n",
    "plt.grid()\n",
    "plt.xlabel(\"Threshold\")\n",
    "plt.legend(loc=\"center right\")\n",
    "\n",
    "plt.show()"
   ]
  },
  {
   "cell_type": "code",
   "execution_count": null,
   "id": "bc527f20",
   "metadata": {},
   "outputs": [],
   "source": [
    "from sklearn.neighbors import KNeighborsClassifier\n",
    "\n",
    "knn = KNeighborsClassifier(n_neighbors = 10)\n",
    "y_predict = cross_val_predict(knn, X_train_prepared, y_train, cv=3)\n",
    "\n",
    "cm = confusion_matrix(y_train, y_predict > 0)\n",
    "print(cm)\n",
    "print(cm[1,1]/(cm[1,1]+cm[0,1])*100)\n",
    "print(cm[1,1]/(cm[1,1]+cm[1,0])*100)"
   ]
  },
  {
   "cell_type": "code",
   "execution_count": null,
   "id": "2d5a642a",
   "metadata": {},
   "outputs": [],
   "source": [
    "from sklearn.svm import LinearSVC\n",
    "\n",
    "svc = LinearSVC(dual='auto', random_state=42, tol=1e-05)\n",
    "y_predict = cross_val_predict(svc, X_train_prepared, y_train, cv=3)\n",
    "\n",
    "cm = confusion_matrix(y_train, y_predict > 0)\n",
    "print(cm)\n",
    "print(cm[1,1]/(cm[1,1]+cm[0,1])*100)\n",
    "print(cm[1,1]/(cm[1,1]+cm[1,0])*100)"
   ]
  },
  {
   "cell_type": "code",
   "execution_count": null,
   "id": "c8bbfece",
   "metadata": {},
   "outputs": [],
   "source": [
    "from sklearn.tree import DecisionTreeClassifier\n",
    "\n",
    "dec_tree = DecisionTreeClassifier(random_state=42)\n",
    "y_predict = cross_val_predict(dec_tree, X_train_prepared, y_train, cv=3)\n",
    "\n",
    "cm = confusion_matrix(y_train, y_predict > 0)\n",
    "print(cm)\n",
    "print(cm[1,1]/(cm[1,1]+cm[0,1])*100)\n",
    "print(cm[1,1]/(cm[1,1]+cm[1,0])*100)"
   ]
  },
  {
   "cell_type": "code",
   "execution_count": null,
   "id": "68458b92",
   "metadata": {},
   "outputs": [],
   "source": [
    "pd.DataFrame(y_train).value_counts()"
   ]
  },
  {
   "cell_type": "code",
   "execution_count": null,
   "id": "ca245bcb",
   "metadata": {},
   "outputs": [],
   "source": []
  },
  {
   "cell_type": "code",
   "execution_count": null,
   "id": "d83704fa",
   "metadata": {},
   "outputs": [],
   "source": []
  }
 ],
 "metadata": {
  "kernelspec": {
   "display_name": "Python 3 (ipykernel)",
   "language": "python",
   "name": "python3"
  },
  "language_info": {
   "codemirror_mode": {
    "name": "ipython",
    "version": 3
   },
   "file_extension": ".py",
   "mimetype": "text/x-python",
   "name": "python",
   "nbconvert_exporter": "python",
   "pygments_lexer": "ipython3",
   "version": "3.10.5"
  }
 },
 "nbformat": 4,
 "nbformat_minor": 5
}
